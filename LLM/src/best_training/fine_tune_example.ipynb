{
 "cells": [
  {
   "cell_type": "code",
   "execution_count": 6,
   "metadata": {},
   "outputs": [],
   "source": [
    "config = {\n",
    "    \"LORA_R\": 16,\n",
    "    \"LORA_ALPHA\": 32,\n",
    "    \"LORA_DROPOUT\": 0.05,\n",
    "    \"PER_DEVICE_TRAIN_BATCH_SIZE\": 4,\n",
    "    \"GRADIENT_ACCUMULATION_STEPS\": 4,\n",
    "    \"WARMUP_STEPS\": 100,\n",
    "    \"MAX_STEPS\": 40,\n",
    "    \"LEARNING_RATE\": 2e-4,\n",
    "}"
   ]
  },
  {
   "cell_type": "code",
   "execution_count": 7,
   "metadata": {},
   "outputs": [],
   "source": [
    "import json\n",
    "with open(\"./config.json\", \"w\") as f:\n",
    "    json.dump(config, f)"
   ]
  },
  {
   "cell_type": "code",
   "execution_count": 2,
   "metadata": {},
   "outputs": [
    {
     "data": {
      "text/plain": [
       "dict_keys(['per_device_train_batch_size', 'gradient_accumulation_steps', 'warmup_steps', 'max_steps', 'learning_rate'])"
      ]
     },
     "execution_count": 2,
     "metadata": {},
     "output_type": "execute_result"
    }
   ],
   "source": [
    "x.keys()"
   ]
  },
  {
   "cell_type": "code",
   "execution_count": 4,
   "metadata": {},
   "outputs": [
    {
     "name": "stdout",
     "output_type": "stream",
     "text": [
      "PER_DEVICE_TRAIN_BATCH_SIZE\n",
      "GRADIENT_ACCUMULATION_STEPS\n",
      "WARMUP_STEPS\n",
      "MAX_STEPS\n",
      "LEARNING_RATE\n"
     ]
    }
   ],
   "source": [
    "for key in x.keys():\n",
    "    print(key.upper())"
   ]
  },
  {
   "cell_type": "code",
   "execution_count": null,
   "metadata": {},
   "outputs": [],
   "source": []
  }
 ],
 "metadata": {
  "kernelspec": {
   "display_name": "aienv",
   "language": "python",
   "name": "python3"
  },
  "language_info": {
   "codemirror_mode": {
    "name": "ipython",
    "version": 3
   },
   "file_extension": ".py",
   "mimetype": "text/x-python",
   "name": "python",
   "nbconvert_exporter": "python",
   "pygments_lexer": "ipython3",
   "version": "3.11.3"
  },
  "orig_nbformat": 4
 },
 "nbformat": 4,
 "nbformat_minor": 2
}
